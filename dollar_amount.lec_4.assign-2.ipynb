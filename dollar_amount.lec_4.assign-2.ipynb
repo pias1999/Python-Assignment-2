{
 "cells": [
  {
   "cell_type": "markdown",
   "metadata": {},
   "source": [
    "# 2.Using the dictionary created in the previous problem, allow the user to enter a dollar amount and print out all the products whose price is less than that amount."
   ]
  },
  {
   "cell_type": "code",
   "execution_count": 7,
   "metadata": {},
   "outputs": [
    {
     "name": "stdout",
     "output_type": "stream",
     "text": [
      "Enter a dollar amount: $1000\n",
      "\n",
      "Products whose price is less than \"$ 1000 \":\n",
      "Product: Mouse\n",
      "Product: Keyboard\n"
     ]
    }
   ],
   "source": [
    "dict = {'CPU':5000,'Keyboard':500,'Mouse':200,'Speaker':2000}\n",
    "      \n",
    "amount = input(\"Enter a dollar amount: $\") # input the dollar amount\n",
    "print \"\\nProducts whose price is less than \"'\"$',amount,'\"'\":\"\n",
    "for key in dict:\n",
    "    if dict[key] < amount: # if the price is less than the entered amount\n",
    "        print \"Product:\",key # prints the products whose price is less than the entered amount"
   ]
  }
 ],
 "metadata": {
  "kernelspec": {
   "display_name": "Python 2",
   "language": "python",
   "name": "python2"
  },
  "language_info": {
   "codemirror_mode": {
    "name": "ipython",
    "version": 2
   },
   "file_extension": ".py",
   "mimetype": "text/x-python",
   "name": "python",
   "nbconvert_exporter": "python",
   "pygments_lexer": "ipython2",
   "version": "2.7.15"
  }
 },
 "nbformat": 4,
 "nbformat_minor": 2
}
