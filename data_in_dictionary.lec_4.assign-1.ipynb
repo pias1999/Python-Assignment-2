{
 "cells": [
  {
   "cell_type": "markdown",
   "metadata": {},
   "source": [
    "# 1.Write a program that repeatedly asks the user to enter product names and prices. Store all of these in a dictionary whose keys are the product names and whose values are the prices. When the user is done entering products and prices, allow them to repeatedly enter a product name and print the corresponding price or a message if the product is not in the dictionary.¶"
   ]
  },
  {
   "cell_type": "code",
   "execution_count": 1,
   "metadata": {},
   "outputs": [
    {
     "name": "stdout",
     "output_type": "stream",
     "text": [
      "Enter the product Name: CPU\n",
      "Enter the price: 5000\n",
      "Do you want to insert again in the dictionary(y/n): y\n",
      "Enter the product Name: Keyboard\n",
      "Enter the price: 500\n",
      "Do you want to insert again in the dictionary(y/n): y\n",
      "Enter the product Name: Mouse\n",
      "Enter the price: 200\n",
      "Do you want to insert again in the dictionary(y/n): y\n",
      "Enter the product Name: Speaker\n",
      "Enter the price: 2000\n",
      "Do you want to insert again in the dictionary(y/n): n\n",
      "\n",
      "All keys and values are inserted in the dictionary successfully\n",
      "\n",
      "\n",
      "If you want to terminate the program, type 'end'\n",
      "Enter the product name: Keyboard\n",
      "The price of \" Keyboard \" is 500\n",
      "\n",
      "If you want to terminate the program, type 'end'\n",
      "Enter the product name: CPU\n",
      "The price of \" CPU \" is 5000\n",
      "\n",
      "If you want to terminate the program, type 'end'\n",
      "Enter the product name: Speaker\n",
      "The price of \" Speaker \" is 2000\n",
      "\n",
      "If you want to terminate the program, type 'end'\n",
      "Enter the product name: Headphones\n",
      "\" Headphones \" is not in the Dictionary\n",
      "\n",
      "If you want to terminate the program, type 'end'\n",
      "Enter the product name: end\n",
      "\n",
      "The program ended\n"
     ]
    }
   ],
   "source": [
    "dict = {} # empty dictionary\n",
    "\n",
    "while True: # if condition is true \n",
    "    key = raw_input(\"Enter the product Name: \") # input the product name\n",
    "    val = input(\"Enter the price: \") # input the price of the product\n",
    "    dict[key] = val # storing keys and values in the dictionary\n",
    "    ch = raw_input(\"Do you want to insert again in the dictionary(y/n): \")\n",
    "    if ch == \"n\": # if choice is no\n",
    "        print(\"\\nAll keys and values are inserted in the dictionary successfully\\n\")\n",
    "        break # get out of the while loop\n",
    "    else:\n",
    "        ch == \"y\" # continue inserting keys and values in the dictionary\n",
    "        \n",
    "while True:\n",
    "    print \"\\nIf you want to terminate the program, type 'end'\"\n",
    "    key = raw_input(\"Enter the product name: \") # input the product name to print the corresponding price\n",
    "    if key in dict:\n",
    "        print \"The price of \"'\"',key,'\"'\" is\",dict[key] # print the corresponding price of the entered product name\n",
    "    elif key == \"end\":\n",
    "        print \"\\nThe program ended\"\n",
    "        break\n",
    "    else:\n",
    "        print '\"',key,'\"' \" is not in the Dictionary\"\n"
   ]
  },
  {
   "cell_type": "code",
   "execution_count": null,
   "metadata": {},
   "outputs": [],
   "source": []
  }
 ],
 "metadata": {
  "kernelspec": {
   "display_name": "Python 2",
   "language": "python",
   "name": "python2"
  },
  "language_info": {
   "codemirror_mode": {
    "name": "ipython",
    "version": 2
   },
   "file_extension": ".py",
   "mimetype": "text/x-python",
   "name": "python",
   "nbconvert_exporter": "python",
   "pygments_lexer": "ipython2",
   "version": "2.7.15"
  }
 },
 "nbformat": 4,
 "nbformat_minor": 2
}
