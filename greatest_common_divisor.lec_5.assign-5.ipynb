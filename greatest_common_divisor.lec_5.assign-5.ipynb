{
 "cells": [
  {
   "cell_type": "markdown",
   "metadata": {},
   "source": [
    "# 5.The GCD (greatest common divisor) of two numbers is the largest number that both are di-visible by. For instance, gcd (18, 42) is 6 because the largest number that both 18 and 42 are divisible by is 6. Write a program that asks the user for two numbers and computes their gcd. Shown below is a way to compute the GCD, called Euclid’s Algorithm.\n",
    "# • First compute the remainder of dividing the larger number by the smaller number\n",
    "# • Next, replace the larger number with the smaller number and the smaller number with the remainder.\n",
    "# • Repeat this process until the smaller number is 0. The GCD is the last value of the larger number."
   ]
  },
  {
   "cell_type": "code",
   "execution_count": 10,
   "metadata": {},
   "outputs": [
    {
     "name": "stdout",
     "output_type": "stream",
     "text": [
      "Enter first value: 68\n",
      "Enter second value: 92\n",
      "\n",
      "Greatest common divisor is:  4\n"
     ]
    }
   ],
   "source": [
    "num1 = input(\"Enter first value: \")\n",
    "num2 = input(\"Enter second value: \")\n",
    "\n",
    "rem = num1 % num2\n",
    "\n",
    "while(rem != 0):\n",
    "    num1 = num2\n",
    "    num2 = rem\n",
    "    div = int(num1 / num2)\n",
    "    rem = num1 - (num2 * div)\n",
    "    \n",
    "print \"\\nGreatest common divisor is: \", num2"
   ]
  }
 ],
 "metadata": {
  "kernelspec": {
   "display_name": "Python 2",
   "language": "python",
   "name": "python2"
  },
  "language_info": {
   "codemirror_mode": {
    "name": "ipython",
    "version": 2
   },
   "file_extension": ".py",
   "mimetype": "text/x-python",
   "name": "python",
   "nbconvert_exporter": "python",
   "pygments_lexer": "ipython2",
   "version": "2.7.15"
  }
 },
 "nbformat": 4,
 "nbformat_minor": 2
}
