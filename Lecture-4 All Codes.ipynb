{
 "cells": [
  {
   "cell_type": "markdown",
   "metadata": {},
   "source": [
    "# 1.Write a program that repeatedly asks the user to enter product names and prices. Store all of these in a dictionary whose keys are the product names and whose values are the prices. When the user is done entering products and prices, allow them to repeatedly enter a product name and print the corresponding price or a message if the product is not in the dictionary.# "
   ]
  },
  {
   "cell_type": "code",
   "execution_count": 2,
   "metadata": {},
   "outputs": [
    {
     "name": "stdout",
     "output_type": "stream",
     "text": [
      "Enter the product Name: CPU\n",
      "Enter the price: 5000\n",
      "Do you want to insert again in the dictionary(y/n): y\n",
      "Enter the product Name: Keyboard\n",
      "Enter the price: 500\n",
      "Do you want to insert again in the dictionary(y/n): y\n",
      "Enter the product Name: Mouse\n",
      "Enter the price: 200\n",
      "Do you want to insert again in the dictionary(y/n): y\n",
      "Enter the product Name: Speaker\n",
      "Enter the price: 2000\n",
      "Do you want to insert again in the dictionary(y/n): n\n",
      "\n",
      "All keys and values are inserted in the dictionary successfully\n",
      "\n",
      "\n",
      "If you want to terminate the program, type 'end'\n",
      "Enter the product name: Keyboard\n",
      "The price of \" Keyboard \" is 500\n",
      "\n",
      "If you want to terminate the program, type 'end'\n",
      "Enter the product name: Speaker\n",
      "The price of \" Speaker \" is 2000\n",
      "\n",
      "If you want to terminate the program, type 'end'\n",
      "Enter the product name: Headphones\n",
      "\" Headphones \" is not in the Dictionary\n",
      "\n",
      "If you want to terminate the program, type 'end'\n",
      "Enter the product name: end\n",
      "\n",
      "The program ended\n"
     ]
    }
   ],
   "source": [
    "dict = {} # empty dictionary\n",
    "\n",
    "while True: # if condition is true \n",
    "    key = raw_input(\"Enter the product Name: \") # input the product name\n",
    "    val = input(\"Enter the price: \") # input the price of the product\n",
    "    dict[key] = val # storing keys and values in the dictionary\n",
    "    ch = raw_input(\"Do you want to insert again in the dictionary(y/n): \")\n",
    "    if ch == \"n\": # if choice is no\n",
    "        print(\"\\nAll keys and values are inserted in the dictionary successfully\\n\")\n",
    "        break # get out of the while loop\n",
    "    else:\n",
    "        ch == \"y\" # continue inserting keys and values in the dictionary\n",
    "        \n",
    "while True:\n",
    "    print \"\\nIf you want to terminate the program, type 'end'\"\n",
    "    key = raw_input(\"Enter the product name: \") # input the product name to print the corresponding price\n",
    "    if key in dict:\n",
    "        print \"The price of \"'\"',key,'\"'\" is\",dict[key] # print the corresponding price of the entered product name\n",
    "    elif key == \"end\":\n",
    "        print \"\\nThe program ended\"\n",
    "        break\n",
    "    else:\n",
    "        print '\"',key,'\"' \" is not in the Dictionary\"\n"
   ]
  },
  {
   "cell_type": "markdown",
   "metadata": {},
   "source": [
    "# 2.Using the dictionary created in the previous problem, allow the user to enter a dollar amount and print out all the products whose price is less than that amount."
   ]
  },
  {
   "cell_type": "code",
   "execution_count": 3,
   "metadata": {},
   "outputs": [
    {
     "name": "stdout",
     "output_type": "stream",
     "text": [
      "Enter a dollar amount: $1000\n",
      "\n",
      "Products whose price is less than \"$ 1000 \":\n",
      "Product: Mouse\n",
      "Product: Keyboard\n"
     ]
    }
   ],
   "source": [
    "dict = {'CPU':5000,'Keyboard':500,'Mouse':200,'Speaker':2000}\n",
    "      \n",
    "amount = input(\"Enter a dollar amount: $\") # input the dollar amount\n",
    "print \"\\nProducts whose price is less than \"'\"$',amount,'\"'\":\"\n",
    "for key in dict:\n",
    "    if dict[key] < amount: # if the price is less than the entered amount\n",
    "        print \"Product:\",key # prints the products whose price is less than the entered amount"
   ]
  },
  {
   "cell_type": "markdown",
   "metadata": {},
   "source": [
    "# 3.Write a program that uses a dictionary that contains ten user names and passwords. The program should ask the user to enter their username and password. If the username is not in the dictionary, the program should indicate that the person is not a valid user of the system. If the username is in the dictionary, but the user does not enter the right password, the program should say that the password is invalid. If the password is correct, then the program should tell the user that they are now logged in to the system."
   ]
  },
  {
   "cell_type": "code",
   "execution_count": 4,
   "metadata": {},
   "outputs": [
    {
     "name": "stdout",
     "output_type": "stream",
     "text": [
      "Enter the username: pias\n",
      "Enter the password: 1325\n",
      "\n",
      "You are successfully logged into the system\n"
     ]
    }
   ],
   "source": [
    "user_pass = {'pias' : 1325, 'rafid' :1999, 'robin' :1985, 'palash' :1984,'sion' :1990, \n",
    "                                          'dipto' :1995, 'navid' :1997, 'numan' :1993, 'shykat' :1998, 'asraf' :1996}\n",
    "while True:\n",
    "    user = raw_input(\"Enter the username: \") # input the username\n",
    "    if user not in user_pass:\n",
    "        print \"The person is not a valid user of the system\"\n",
    "        break\n",
    "    pas = input(\"Enter the password: \") # input the password\n",
    "\n",
    "    if user in user_pass and pas == user_pass[user]:\n",
    "        print \"\\nYou are successfully logged into the system\"\n",
    "        break\n",
    "    else:\n",
    "        print \"The Password is Invalid\""
   ]
  },
  {
   "cell_type": "markdown",
   "metadata": {},
   "source": [
    "# 4,Below are the notes used in music: C C# D D# E F F# G G# A A# B The notes for the C major chord are C, E, G. A mathematical way to get this is that E is 4 steps past C and G is 7 steps past C. This works for any base. For example, the notes for D major are D, F#, A. We can represent the major chord steps as a list with two elements: [4,7] . The corresponding lists for some other chord types are shown below:\n",
    "\n",
    "# Minor [3,7]\n",
    "\n",
    "# Augmented fifth [4,8]\n",
    "\n",
    "# Minor fifth [4,6]\n",
    "\n",
    "# Major sixth [4,7,9]\n",
    "\n",
    "# Minor sixth [3,7,9]\n",
    "\n",
    "# Dominant seventh [4,7,10]\n",
    "\n",
    "# Minor seventh [3,7,10]\n",
    "\n",
    "# Major seventh [4,7,11]\n",
    "\n",
    "# Diminished seventh [3,6,10]\n",
    "\n",
    "# Write a program that asks the user for the key and the chord type and prints out the notes of the chord. Use a dictionary whose keys are the (musical) keys and whose values are the lists of steps."
   ]
  },
  {
   "cell_type": "code",
   "execution_count": null,
   "metadata": {},
   "outputs": [],
   "source": []
  },
  {
   "cell_type": "markdown",
   "metadata": {},
   "source": [
    "# 5.Suppose you are given the following list of strings:\n",
    "# L = [ ' aabaabac ' , ' cabaabca ' , ' aaabbcba ' , ' aabacbab ' , ' acababba ' ]\n",
    "\n",
    "# Patterns like this show up in many places, including DNA sequencing. The user has a string of their own with only some letters filled in and the rest as asterisks. An example is aa** . The user would like to know which of the strings in the list fit with their pattern. In the example just given, the matching strings are the first and fourth. One way to solve this problem is to create a dictionary whose keys are the indices in the user’s string of the non-asterisk characters and whose values are those characters. Write a program implementing this approach (or some other approach) to find the strings that match a user-entered string."
   ]
  },
  {
   "cell_type": "code",
   "execution_count": null,
   "metadata": {},
   "outputs": [],
   "source": []
  },
  {
   "cell_type": "markdown",
   "metadata": {},
   "source": [
    "# 6.Dictionaries provide a convenient way to store structured data. Here is an example dictionary:\n",
    "# d=[{ ' name ' : ' Todd ' , ' phone ' : ' 555-1414 ' , ' email ' : ' todd@mail.net ' }, { ' name ' : ' Helga ' , ' phone ' : ' 555-1618 ' , ' email ' : ' helga@mail.net ' }, { ' name ' : ' Princess ' , ' phone ' : ' 555-3141 ' , ' email ' : '' }, { ' name ' : ' LJ ' , ' phone ' : ' 555-2718 ' , ' email ' : ' lj@mail.net ' }]\n",
    "\n",
    "# Write a program that reads through any dictionary like this and prints the following:\n",
    "\n",
    "# (a) All the users whose phone number ends in an 8"
   ]
  },
  {
   "cell_type": "code",
   "execution_count": 1,
   "metadata": {},
   "outputs": [
    {
     "name": "stdout",
     "output_type": "stream",
     "text": [
      "Name of the users whose phone number ends with an 8: \n",
      "\n",
      "User: Rafid\n",
      "User: Palash\n"
     ]
    }
   ],
   "source": [
    "dict = [{'name' : 'Pias' , 'phone' : '555-1414' , 'email' : 'pias@mail.net'}, \n",
    "     {'name' : 'Rafid' , 'phone' : '555-1618' , 'email' : 'rafid@mail.net'}, \n",
    "     {'name' : 'Robin' , 'phone' : '555-3141' , 'email' : ''}, \n",
    "     {'name' : 'Palash' , 'phone' : '555-2718' , 'email' : 'palash@mail.net'}]\n",
    "\n",
    "print \"Name of the users whose phone number ends with an 8: \\n\"\n",
    "for keys in dict:\n",
    "    for value in keys: # if the value is in key\n",
    "        str = keys.get('phone') # read and get all of the keys 'phone' from the dictionaries \n",
    "        if str[len(str)-1] == '8': # if all of the phone number ends with an 8\n",
    "            print \"User:\",keys.get('name')\n",
    "            break"
   ]
  },
  {
   "cell_type": "markdown",
   "metadata": {},
   "source": [
    "# (b) All the users that don’t have an email address listed"
   ]
  },
  {
   "cell_type": "code",
   "execution_count": 2,
   "metadata": {},
   "outputs": [
    {
     "name": "stdout",
     "output_type": "stream",
     "text": [
      "Name of the users that don’t have an email address listed: \n",
      "\n",
      "User: Robin\n"
     ]
    }
   ],
   "source": [
    "dict = [{ 'name' : 'Pias' , 'phone' : '555-1414' , 'email' : 'pias@mail.net' }, \n",
    "     { 'name' : 'Rafid' , 'phone' : '555-1618' , 'email' : 'rafid@mail.net' }, \n",
    "     { 'name' : 'Robin' , 'phone' : '555-3141' , 'email' : ' ' }, \n",
    "     { 'name' : 'Palash' , 'phone' : '555-2718' , 'email' : 'palash@mail.net' }]\n",
    "\n",
    "print \"Name of the users that don’t have an email address listed: \\n\"\n",
    "for keys in dict:\n",
    "    for value in keys: # if the value is in key\n",
    "        str = keys.get('email') # read and get all of the keys 'email' from the dictionaries \n",
    "        if str[len(str)-1] == ' ': # if all of the users don’t have an email address\n",
    "            print \"User:\",keys.get('name')\n",
    "            break"
   ]
  },
  {
   "cell_type": "markdown",
   "metadata": {},
   "source": [
    "# 7.The keys in a dictionary are guaranteed to be unique, but the values are not. Write a function called count_values that takes a single dictionary as an argument and returns the number of dis-tinct values it contains. Given the input {’red’:1, ’green’:1, ’blue’:2} , for example, it would return 2."
   ]
  },
  {
   "cell_type": "code",
   "execution_count": 5,
   "metadata": {},
   "outputs": [
    {
     "name": "stdout",
     "output_type": "stream",
     "text": [
      "Unique values in dictionary: 2\n"
     ]
    }
   ],
   "source": [
    "def count_values(dict): # function name\n",
    "  values = {} # empty dictionary\n",
    "  for key in dict: # if key is in the dictionary\n",
    "    values[dict[key]] = dict[key]\n",
    "  return len(values) # return the length of values_count\n",
    "\n",
    "dict = {'red':1, 'green':1, 'blue':2} # given input\n",
    "print \"Unique values in dictionary:\", count_values(dict) "
   ]
  }
 ],
 "metadata": {
  "kernelspec": {
   "display_name": "Python 2",
   "language": "python",
   "name": "python2"
  },
  "language_info": {
   "codemirror_mode": {
    "name": "ipython",
    "version": 2
   },
   "file_extension": ".py",
   "mimetype": "text/x-python",
   "name": "python",
   "nbconvert_exporter": "python",
   "pygments_lexer": "ipython2",
   "version": "2.7.15"
  }
 },
 "nbformat": 4,
 "nbformat_minor": 2
}
