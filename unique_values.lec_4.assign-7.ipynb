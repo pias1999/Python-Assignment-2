{
 "cells": [
  {
   "cell_type": "markdown",
   "metadata": {},
   "source": [
    "# 7.The keys in a dictionary are guaranteed to be unique, but the values are not. Write a function called count_values that takes a single dictionary as an argument and returns the number of dis-tinct values it contains. Given the input {’red’:1, ’green’:1, ’blue’:2} , for example, it would return 2."
   ]
  },
  {
   "cell_type": "code",
   "execution_count": 15,
   "metadata": {},
   "outputs": [
    {
     "name": "stdout",
     "output_type": "stream",
     "text": [
      "Unique values in dictionary: 2\n"
     ]
    }
   ],
   "source": [
    "def count_values(dict): # function name\n",
    "  values = {} # empty dictionary\n",
    "  for key in dict: # if key is in the dictionary\n",
    "    values[dict[key]] = dict[key]\n",
    "  return len(values) # return the length of values_count\n",
    "\n",
    "dict = {'red':1, 'green':1, 'blue':2} # given input\n",
    "print \"Unique values in dictionary:\", count_values(dict) "
   ]
  }
 ],
 "metadata": {
  "kernelspec": {
   "display_name": "Python 2",
   "language": "python",
   "name": "python2"
  },
  "language_info": {
   "codemirror_mode": {
    "name": "ipython",
    "version": 2
   },
   "file_extension": ".py",
   "mimetype": "text/x-python",
   "name": "python",
   "nbconvert_exporter": "python",
   "pygments_lexer": "ipython2",
   "version": "2.7.15"
  }
 },
 "nbformat": 4,
 "nbformat_minor": 2
}
