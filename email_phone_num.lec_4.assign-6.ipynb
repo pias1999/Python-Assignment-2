{
 "cells": [
  {
   "cell_type": "markdown",
   "metadata": {},
   "source": [
    "# 6.Dictionaries provide a convenient way to store structured data. Here is an example dictionary:\n",
    "# d=[{ ' name ' : ' Todd ' , ' phone ' : ' 555-1414 ' , ' email ' : ' todd@mail.net ' }, { ' name ' : ' Helga ' , ' phone ' : ' 555-1618 ' , ' email ' : ' helga@mail.net ' }, { ' name ' : ' Princess ' , ' phone ' : ' 555-3141 ' , ' email ' : '' }, { ' name ' : ' LJ ' , ' phone ' : ' 555-2718 ' , ' email ' : ' lj@mail.net ' }]\n",
    "\n",
    "# Write a program that reads through any dictionary like this and prints the following:\n",
    "\n",
    "# (a) All the users whose phone number ends in an 8"
   ]
  },
  {
   "cell_type": "code",
   "execution_count": 6,
   "metadata": {},
   "outputs": [
    {
     "name": "stdout",
     "output_type": "stream",
     "text": [
      "Name of the users whose phone number ends with an 8: \n",
      "\n",
      "User: Rafid\n",
      "User: Palash\n"
     ]
    }
   ],
   "source": [
    "dict = [{'name' : 'Pias' , 'phone' : '555-1414' , 'email' : 'pias@mail.net'}, \n",
    "     {'name' : 'Rafid' , 'phone' : '555-1618' , 'email' : 'rafid@mail.net'}, \n",
    "     {'name' : 'Robin' , 'phone' : '555-3141' , 'email' : ''}, \n",
    "     {'name' : 'Palash' , 'phone' : '555-2718' , 'email' : 'palash@mail.net'}]\n",
    "\n",
    "print \"Name of the users whose phone number ends with an 8: \\n\"\n",
    "for keys in dict:\n",
    "    for value in keys: # if the value is in key\n",
    "        str = keys.get('phone') # read and get all of the keys 'phone' from the dictionaries \n",
    "        if str[len(str)-1] == '8': # if all of the phone number ends with an 8\n",
    "            print \"User:\",keys.get('name')\n",
    "            break"
   ]
  },
  {
   "cell_type": "markdown",
   "metadata": {},
   "source": [
    "# (b) All the users that don’t have an email address listed"
   ]
  },
  {
   "cell_type": "code",
   "execution_count": 7,
   "metadata": {},
   "outputs": [
    {
     "name": "stdout",
     "output_type": "stream",
     "text": [
      "Name of the users that don’t have an email address listed: \n",
      "\n",
      "User: Robin\n"
     ]
    }
   ],
   "source": [
    "dict = [{ 'name' : 'Pias' , 'phone' : '555-1414' , 'email' : 'pias@mail.net' }, \n",
    "     { 'name' : 'Rafid' , 'phone' : '555-1618' , 'email' : 'rafid@mail.net' }, \n",
    "     { 'name' : 'Robin' , 'phone' : '555-3141' , 'email' : ' ' }, \n",
    "     { 'name' : 'Palash' , 'phone' : '555-2718' , 'email' : 'palash@mail.net' }]\n",
    "\n",
    "print \"Name of the users that don’t have an email address listed: \\n\"\n",
    "for keys in dict:\n",
    "    for value in keys: # if the value is in key\n",
    "        str = keys.get('email') # read and get all of the keys 'email' from the dictionaries \n",
    "        if str[len(str)-1] == ' ': # if all of the users don’t have an email address\n",
    "            print \"User:\",keys.get('name')\n",
    "            break"
   ]
  }
 ],
 "metadata": {
  "kernelspec": {
   "display_name": "Python 2",
   "language": "python",
   "name": "python2"
  },
  "language_info": {
   "codemirror_mode": {
    "name": "ipython",
    "version": 2
   },
   "file_extension": ".py",
   "mimetype": "text/x-python",
   "name": "python",
   "nbconvert_exporter": "python",
   "pygments_lexer": "ipython2",
   "version": "2.7.15"
  }
 },
 "nbformat": 4,
 "nbformat_minor": 2
}
