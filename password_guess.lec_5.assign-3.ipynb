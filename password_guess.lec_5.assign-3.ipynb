{
 "cells": [
  {
   "cell_type": "markdown",
   "metadata": {},
   "source": [
    "# 3.Write a program that asks the user to enter a password. If the user enters the right password, the program should tell them they are logged in to the system. Otherwise, the program should ask them to reenter the password. The user should only get five tries to enter the password, after which point the program should tell them that they are kicked off of the system."
   ]
  },
  {
   "cell_type": "code",
   "execution_count": 5,
   "metadata": {},
   "outputs": [
    {
     "name": "stdout",
     "output_type": "stream",
     "text": [
      "Enter the password: 867\n",
      "Wrong Password\n",
      "Enter the password: 482\n",
      "Wrong Password\n",
      "Enter the password: 53826\n",
      "Wrong Password\n",
      "Enter the password: 886435\n",
      "Login Succesful\n"
     ]
    }
   ],
   "source": [
    "i = 0\n",
    "a = 886435\n",
    "while i < 5:\n",
    "    pa = input(\"Enter the password: \")\n",
    "    if pa == a:\n",
    "        print(\"Login Succesful\")\n",
    "        break\n",
    "    else:\n",
    "        print(\"Wrong Password\")\n",
    "    i += 1\n",
    "    if i == 5:\n",
    "        print(\"\\nYou are kicked off the system\")\n"
   ]
  },
  {
   "cell_type": "code",
   "execution_count": null,
   "metadata": {},
   "outputs": [],
   "source": []
  }
 ],
 "metadata": {
  "kernelspec": {
   "display_name": "Python 2",
   "language": "python",
   "name": "python2"
  },
  "language_info": {
   "codemirror_mode": {
    "name": "ipython",
    "version": 2
   },
   "file_extension": ".py",
   "mimetype": "text/x-python",
   "name": "python",
   "nbconvert_exporter": "python",
   "pygments_lexer": "ipython2",
   "version": "2.7.15"
  }
 },
 "nbformat": 4,
 "nbformat_minor": 2
}
