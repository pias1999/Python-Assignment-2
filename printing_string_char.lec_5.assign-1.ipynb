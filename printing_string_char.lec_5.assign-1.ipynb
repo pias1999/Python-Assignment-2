{
 "cells": [
  {
   "cell_type": "markdown",
   "metadata": {},
   "source": [
    "# 1.Write a program that uses a while loop (not a for loop) to read through a string and print the characters of the string one-by-one on separate lines.\n",
    "\n"
   ]
  },
  {
   "cell_type": "code",
   "execution_count": 8,
   "metadata": {},
   "outputs": [
    {
     "name": "stdout",
     "output_type": "stream",
     "text": [
      "A\n",
      "s\n",
      "h\n",
      "i\n",
      "k\n",
      "u\n",
      "z\n",
      "z\n",
      "a\n",
      "m\n",
      "a\n",
      "n\n",
      " \n",
      "P\n",
      "i\n",
      "a\n",
      "s\n"
     ]
    }
   ],
   "source": [
    "i = 0\n",
    "a = 'Ashikuzzaman Pias'\n",
    "while i < len(a):\n",
    "    print a[i]\n",
    "    i += 1"
   ]
  },
  {
   "cell_type": "code",
   "execution_count": null,
   "metadata": {},
   "outputs": [],
   "source": []
  }
 ],
 "metadata": {
  "kernelspec": {
   "display_name": "Python 2",
   "language": "python",
   "name": "python2"
  },
  "language_info": {
   "codemirror_mode": {
    "name": "ipython",
    "version": 2
   },
   "file_extension": ".py",
   "mimetype": "text/x-python",
   "name": "python",
   "nbconvert_exporter": "python",
   "pygments_lexer": "ipython2",
   "version": "2.7.15"
  }
 },
 "nbformat": 4,
 "nbformat_minor": 2
}
