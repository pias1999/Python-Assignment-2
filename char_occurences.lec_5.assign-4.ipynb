{
 "cells": [
  {
   "cell_type": "markdown",
   "metadata": {},
   "source": [
    "# 4. Recall that, given a string s , s.index( ' x ' ) returns the index of the first x in s and an error if there is no x.\n",
    "\n",
    "# (a) Write a program that asks the user for a string and a letter. Using a while loop, the program should print the index of the first occurrence of that letter and a message if the string does not contain the letter."
   ]
  },
  {
   "cell_type": "code",
   "execution_count": 3,
   "metadata": {},
   "outputs": [
    {
     "name": "stdout",
     "output_type": "stream",
     "text": [
      "Enter a String: i am a cse student\n",
      "Enter a Letter: a\n",
      "\n",
      "First occurrence of \" a \" is found at index: 2 \n",
      "\n",
      "Enter a String: ashikuzzaman pias\n",
      "Enter a Letter: u\n",
      "\n",
      "First occurrence of \" u \" is found at index: 5 \n",
      "\n",
      "Enter a String: i love python programming\n",
      "Enter a Letter: g\n",
      "\n",
      "First occurrence of \" g \" is found at index: 17 \n",
      "\n",
      "Enter a String: hello world\n",
      "Enter a Letter: a\n",
      "\n",
      "The String does not contain the Letter\n",
      "\n",
      "Enter a String: hey there\n",
      "Enter a Letter: o\n",
      "\n",
      "The String does not contain the Letter\n",
      "\n"
     ]
    }
   ],
   "source": [
    "i = 0\n",
    "while i < 5: # when condition is true \n",
    "    s = raw_input(\"Enter a String: \") # input a string\n",
    "    letter = raw_input(\"Enter a Letter: \") # input a letter\n",
    "    if letter in s: # if letter is in the string \n",
    "        find = s.index(letter) # find out the first index of the letter\n",
    "        print \"\\nFirst occurrence of \"'\"',letter,'\"'\" is found at index:\",find,\"\\n\" # print statement\n",
    "    else: # if letter is not in the string 's' \n",
    "        print \"\\nThe String does not contain the Letter\\n\"\n",
    "    i = i + 1"
   ]
  },
  {
   "cell_type": "markdown",
   "metadata": {},
   "source": [
    "# (b) Write the above program using a for/break loop instead of a while loop."
   ]
  },
  {
   "cell_type": "code",
   "execution_count": 1,
   "metadata": {},
   "outputs": [
    {
     "name": "stdout",
     "output_type": "stream",
     "text": [
      "Enter a String: i am doing python\n",
      "Enter a Letter: o\n",
      "\n",
      "First occurrence of \" o \" is found at index: 6 \n",
      "\n"
     ]
    }
   ],
   "source": [
    "s = raw_input(\"Enter a String: \") # input a string\n",
    "letter = raw_input(\"Enter a Letter: \") # input a letter \n",
    "for i in range(1): \n",
    "    if letter in s: \n",
    "        find = s.index(letter) # find out the first index of the letter\n",
    "        print \"\\nFirst occurrence of \"'\"',letter,'\"'\" is found at index:\",find,\"\\n\" # print statement\n",
    "        break\n",
    "    else:\n",
    "        print \"\\nThe String does not contain the Letter\\n\" # print statement"
   ]
  }
 ],
 "metadata": {
  "kernelspec": {
   "display_name": "Python 2",
   "language": "python",
   "name": "python2"
  },
  "language_info": {
   "codemirror_mode": {
    "name": "ipython",
    "version": 2
   },
   "file_extension": ".py",
   "mimetype": "text/x-python",
   "name": "python",
   "nbconvert_exporter": "python",
   "pygments_lexer": "ipython2",
   "version": "2.7.15"
  }
 },
 "nbformat": 4,
 "nbformat_minor": 2
}
