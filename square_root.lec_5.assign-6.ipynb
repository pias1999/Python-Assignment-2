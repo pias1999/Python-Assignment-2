{
 "cells": [
  {
   "cell_type": "markdown",
   "metadata": {},
   "source": [
    "# 6. A 4000-year old method to compute the square root of 5 is as follows: Start with an initial guess, say 1. Then compute\n",
    "# (1 + 5/1 )/2 = 3\n",
    "# Next, take that 3 and replace the 1’s in the previous formula with 3’s . This gives\n",
    "# (3 + 5/3 )/2 = 7/3 = 2.33\n",
    "# Next replace the 3 in the previous formula with 7/3 . This gives\n",
    "# (7/3 + 5/(7/3) )/2 = 47/22 = 2.24\n",
    "# If you keep doing this process of computing the formula, getting a result, and plugging it back in, the values will eventually get closer and closer to 5 . This method works for numbers other than 5. Write a program that asks the user for a number and uses this method to estimate the square root of the number correct to within 10^( −10) . The estimate will be correct to within 10^( −10) when the absolute value of the difference between consecutive values is less than 10^(−10) ."
   ]
  },
  {
   "cell_type": "code",
   "execution_count": 2,
   "metadata": {},
   "outputs": [
    {
     "name": "stdout",
     "output_type": "stream",
     "text": [
      "Enter a value: 15\n",
      "\n",
      "3.87\n"
     ]
    }
   ],
   "source": [
    "num = float(input(\"Enter a value: \"))\n",
    "i = 1\n",
    "\n",
    "while i >= 0:\n",
    "    j = i\n",
    "    i = (i + num / i) / 2\n",
    "    if j == i:\n",
    "        break\n",
    "\n",
    "print(\"\\n%.2f\"%i)"
   ]
  }
 ],
 "metadata": {
  "kernelspec": {
   "display_name": "Python 2",
   "language": "python",
   "name": "python2"
  },
  "language_info": {
   "codemirror_mode": {
    "name": "ipython",
    "version": 2
   },
   "file_extension": ".py",
   "mimetype": "text/x-python",
   "name": "python",
   "nbconvert_exporter": "python",
   "pygments_lexer": "ipython2",
   "version": "2.7.15"
  }
 },
 "nbformat": 4,
 "nbformat_minor": 2
}
