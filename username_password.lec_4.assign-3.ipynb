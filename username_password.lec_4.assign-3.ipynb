{
 "cells": [
  {
   "cell_type": "markdown",
   "metadata": {},
   "source": [
    "# 3.Write a program that uses a dictionary that contains ten user names and passwords. The program should ask the user to enter their username and password. If the username is not in the dictionary, the program should indicate that the person is not a valid user of the system. If the username is in the dictionary, but the user does not enter the right password, the program should say that the password is invalid. If the password is correct, then the program should tell the user that they are now logged in to the system."
   ]
  },
  {
   "cell_type": "code",
   "execution_count": 8,
   "metadata": {},
   "outputs": [
    {
     "name": "stdout",
     "output_type": "stream",
     "text": [
      "Enter the username: pias\n",
      "Enter the password: 1325\n",
      "\n",
      "You are successfully logged into the system\n"
     ]
    }
   ],
   "source": [
    "user_pass = {'pias' : 1325, 'rafid' :1999, 'robin' :1985, 'palash' :1984,'sion' :1990, \n",
    "                                          'dipto' :1995, 'navid' :1997, 'numan' :1993, 'shykat' :1998, 'asraf' :1996}\n",
    "while True:\n",
    "    user = raw_input(\"Enter the username: \") # input the username\n",
    "    if user not in user_pass:\n",
    "        print \"The person is not a valid user of the system\"\n",
    "        break\n",
    "    pas = input(\"Enter the password: \") # input the password\n",
    "\n",
    "    if user in user_pass and pas == user_pass[user]:\n",
    "        print \"\\nYou are successfully logged into the system\"\n",
    "        break\n",
    "    else:\n",
    "        print \"The Password is Invalid\""
   ]
  },
  {
   "cell_type": "code",
   "execution_count": null,
   "metadata": {},
   "outputs": [],
   "source": []
  }
 ],
 "metadata": {
  "kernelspec": {
   "display_name": "Python 2",
   "language": "python",
   "name": "python2"
  },
  "language_info": {
   "codemirror_mode": {
    "name": "ipython",
    "version": 2
   },
   "file_extension": ".py",
   "mimetype": "text/x-python",
   "name": "python",
   "nbconvert_exporter": "python",
   "pygments_lexer": "ipython2",
   "version": "2.7.15"
  }
 },
 "nbformat": 4,
 "nbformat_minor": 2
}
