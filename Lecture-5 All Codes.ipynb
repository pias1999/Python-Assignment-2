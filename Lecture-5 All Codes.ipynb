{
 "cells": [
  {
   "cell_type": "markdown",
   "metadata": {},
   "source": [
    "# 1.Write a program that uses a while loop (not a for loop) to read through a string and print the characters of the string one-by-one on separate lines."
   ]
  },
  {
   "cell_type": "code",
   "execution_count": 1,
   "metadata": {},
   "outputs": [
    {
     "name": "stdout",
     "output_type": "stream",
     "text": [
      "A\n",
      "s\n",
      "h\n",
      "i\n",
      "k\n",
      "u\n",
      "z\n",
      "z\n",
      "a\n",
      "m\n",
      "a\n",
      "n\n",
      " \n",
      "P\n",
      "i\n",
      "a\n",
      "s\n"
     ]
    }
   ],
   "source": [
    "i = 0\n",
    "a = 'Ashikuzzaman Pias'\n",
    "while i < len(a):\n",
    "    print a[i]\n",
    "    i += 1"
   ]
  },
  {
   "cell_type": "markdown",
   "metadata": {},
   "source": [
    "# 2.Write the same program to print the second characters of the every strings."
   ]
  },
  {
   "cell_type": "code",
   "execution_count": 1,
   "metadata": {},
   "outputs": [
    {
     "name": "stdout",
     "output_type": "stream",
     "text": [
      "Y\n",
      "A\n",
      "I\n",
      "A\n"
     ]
    }
   ],
   "source": [
    "i = 0\n",
    "a = ['PYTHON', 'JAVA','PIAS','MATH']\n",
    "for  i in a:\n",
    "    if len(i) > 1:\n",
    "        print i[1]\n"
   ]
  },
  {
   "cell_type": "markdown",
   "metadata": {},
   "source": [
    "# 3.Write a program that asks the user to enter a password. If the user enters the right password, the program should tell them they are logged in to the system. Otherwise, the program should ask them to reenter the password. The user should only get five tries to enter the password, after which point the program should tell them that they are kicked off of the system."
   ]
  },
  {
   "cell_type": "code",
   "execution_count": 2,
   "metadata": {},
   "outputs": [
    {
     "name": "stdout",
     "output_type": "stream",
     "text": [
      "Enter the password: 876\n",
      "Wrong Password\n",
      "Enter the password: 342\n",
      "Wrong Password\n",
      "Enter the password: 886435\n",
      "Login Succesful\n"
     ]
    }
   ],
   "source": [
    "i = 0\n",
    "a = 886435\n",
    "while i < 5:\n",
    "    pa = input(\"Enter the password: \")\n",
    "    if pa == a:\n",
    "        print(\"Login Succesful\")\n",
    "        break\n",
    "    else:\n",
    "        print(\"Wrong Password\")\n",
    "    i += 1\n",
    "    if i == 5:\n",
    "        print(\"\\nYou are kicked off the system\")"
   ]
  },
  {
   "cell_type": "markdown",
   "metadata": {},
   "source": [
    "# 4. Recall that, given a string s , s.index( ' x ' ) returns the index of the first x in s and an error if there is no x.\n",
    "\n",
    "# (a) Write a program that asks the user for a string and a letter. Using a while loop, the program should print the index of the first occurrence of that letter and a message if the string does not contain the letter."
   ]
  },
  {
   "cell_type": "code",
   "execution_count": 1,
   "metadata": {},
   "outputs": [
    {
     "name": "stdout",
     "output_type": "stream",
     "text": [
      "Enter a String: hello world\n",
      "Enter a Letter: l\n",
      "\n",
      "First occurrence of \" l \" is found at index: 2 \n",
      "\n",
      "Enter a String: i love programming\n",
      "Enter a Letter: m\n",
      "\n",
      "First occurrence of \" m \" is found at index: 13 \n",
      "\n",
      "Enter a String: my name is pias\n",
      "Enter a Letter: a\n",
      "\n",
      "First occurrence of \" a \" is found at index: 4 \n",
      "\n",
      "Enter a String: hey there\n",
      "Enter a Letter: p\n",
      "\n",
      "The String does not contain the Letter\n",
      "\n",
      "Enter a String: i am doing python\n",
      "Enter a Letter: f\n",
      "\n",
      "The String does not contain the Letter\n",
      "\n"
     ]
    }
   ],
   "source": [
    "i = 0\n",
    "while i < 5: # when condition is true \n",
    "    s = raw_input(\"Enter a String: \") # input a string\n",
    "    letter = raw_input(\"Enter a Letter: \") # input a letter\n",
    "    if letter in s: # if letter is in the string \n",
    "        find = s.index(letter) # find out the first index of the letter\n",
    "        print \"\\nFirst occurrence of \"'\"',letter,'\"'\" is found at index:\",find,\"\\n\" # print statement\n",
    "    else: # if letter is not in the string 's' \n",
    "        print \"\\nThe String does not contain the Letter\\n\"\n",
    "    i = i + 1"
   ]
  },
  {
   "cell_type": "markdown",
   "metadata": {},
   "source": [
    "# (b) Write the above program using a for/break loop instead of a while loop."
   ]
  },
  {
   "cell_type": "code",
   "execution_count": 2,
   "metadata": {},
   "outputs": [
    {
     "name": "stdout",
     "output_type": "stream",
     "text": [
      "Enter a String: i am a cse student\n",
      "Enter a Letter: a\n",
      "\n",
      "First occurrence of \" a \" is found at index: 2 \n",
      "\n"
     ]
    }
   ],
   "source": [
    "s = raw_input(\"Enter a String: \") # input a string\n",
    "letter = raw_input(\"Enter a Letter: \") # input a letter \n",
    "for i in range(1): \n",
    "    if letter in s: \n",
    "        find = s.index(letter) # find out the first index of the letter\n",
    "        print \"\\nFirst occurrence of \"'\"',letter,'\"'\" is found at index:\",find,\"\\n\" # print statement\n",
    "        break\n",
    "    else:\n",
    "        print \"\\nThe String does not contain the Letter\\n\" # print statement"
   ]
  },
  {
   "cell_type": "markdown",
   "metadata": {},
   "source": [
    "# 5.The GCD (greatest common divisor) of two numbers is the largest number that both are di-visible by. For instance, gcd (18, 42) is 6 because the largest number that both 18 and 42 are divisible by is 6. Write a program that asks the user for two numbers and computes their gcd. Shown below is a way to compute the GCD, called Euclid’s Algorithm.\n",
    "# • First compute the remainder of dividing the larger number by the smaller number\n",
    "# • Next, replace the larger number with the smaller number and the smaller number with the remainder.\n",
    "# • Repeat this process until the smaller number is 0. The GCD is the last value of the larger number."
   ]
  },
  {
   "cell_type": "code",
   "execution_count": 1,
   "metadata": {},
   "outputs": [
    {
     "name": "stdout",
     "output_type": "stream",
     "text": [
      "Enter first value: 54\n",
      "Enter second value: 68\n",
      "\n",
      "Greatest common divisor is:  2\n"
     ]
    }
   ],
   "source": [
    "num1 = input(\"Enter first value: \")\n",
    "num2 = input(\"Enter second value: \")\n",
    "\n",
    "rem = num1 % num2\n",
    "\n",
    "while(rem != 0):\n",
    "    num1 = num2\n",
    "    num2 = rem\n",
    "    div = int(num1 / num2)\n",
    "    rem = num1 - (num2 * div)\n",
    "    \n",
    "print \"\\nGreatest common divisor is: \", num2"
   ]
  },
  {
   "cell_type": "markdown",
   "metadata": {},
   "source": [
    "# 6. A 4000-year old method to compute the square root of 5 is as follows: Start with an initial guess, say 1. Then compute\n",
    "# (1 + 5/1 )/2 = 3\n",
    "# Next, take that 3 and replace the 1’s in the previous formula with 3’s . This gives\n",
    "# (3 + 5/3 )/2 = 7/3 = 2.33\n",
    "# Next replace the 3 in the previous formula with 7/3 . This gives\n",
    "# (7/3 + 5/(7/3) )/2 = 47/22 = 2.24\n",
    "# If you keep doing this process of computing the formula, getting a result, and plugging it back in, the values will eventually get closer and closer to 5 . This method works for numbers other than 5. Write a program that asks the user for a number and uses this method to estimate the square root of the number correct to within 10^( −10) . The estimate will be correct to within 10^( −10) when the absolute value of the difference between consecutive values is less than 10^(−10) ."
   ]
  },
  {
   "cell_type": "code",
   "execution_count": 2,
   "metadata": {},
   "outputs": [
    {
     "name": "stdout",
     "output_type": "stream",
     "text": [
      "Enter a value: 17\n",
      "\n",
      "4.12\n"
     ]
    }
   ],
   "source": [
    "num = float(input(\"Enter a value: \"))\n",
    "i = 1\n",
    "\n",
    "while i >= 0:\n",
    "    j = i\n",
    "    i = (i + num / i) / 2\n",
    "    if j == i:\n",
    "        break\n",
    "\n",
    "print(\"\\n%.2f\"%i)"
   ]
  }
 ],
 "metadata": {
  "kernelspec": {
   "display_name": "Python 2",
   "language": "python",
   "name": "python2"
  },
  "language_info": {
   "codemirror_mode": {
    "name": "ipython",
    "version": 2
   },
   "file_extension": ".py",
   "mimetype": "text/x-python",
   "name": "python",
   "nbconvert_exporter": "python",
   "pygments_lexer": "ipython2",
   "version": "2.7.15"
  }
 },
 "nbformat": 4,
 "nbformat_minor": 2
}
